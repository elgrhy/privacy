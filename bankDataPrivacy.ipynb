{
  "nbformat": 4,
  "nbformat_minor": 0,
  "metadata": {
    "colab": {
      "provenance": []
    },
    "kernelspec": {
      "name": "python3",
      "display_name": "Python 3"
    },
    "language_info": {
      "name": "python"
    }
  },
  "cells": [
    {
      "cell_type": "markdown",
      "source": [
        "***Introduction***\n",
        "\n",
        "Bank and other financial institutions handle sensitive customer data, and differential privacy can be particularly important in protecting this data. The above script demonstrates how differentially private aggregation methods, like those provided by PyDP, can be used to compute statistics on sensitive financial data while preserving the privacy of the individual customers.\n",
        "\n",
        "The bank can use such methods to compute statistics like the mean, median, variance, or any other summary statistics on the financial data of its customers. This can be useful for identifying trends and making important decisions while preserving the privacy of the individual customer data. The visualizations of the dataset can be used by the bank to have a better understanding of the data and identify any outliers or trends."
      ],
      "metadata": {
        "id": "egPuR7BcGGs2"
      }
    },
    {
      "cell_type": "markdown",
      "source": [
        "The below script demonstrates how to use PyDP's BoundedMean function to compute a differentially private mean of a dataset.\n",
        "The dataset used is an array of integers from 1 to 50, with a privacy budget of 1.0 and bounds from 1 to 100.\n",
        "\n",
        "The BoundedMean function takes in the bounds and privacy budget as inputs, and computes a differentially private mean of the dataset using the Laplace mechanism. The quick_result() function is then used to compute the result of the aggregation, and the result is printed to the console.\n",
        "\n",
        "The dataset is then visualized using a histogram, with the counts of each value in the dataset plotted against the values themselves. This provides a visualization of the distribution of the dataset, which can be useful for understanding the characteristics of the data.\n",
        "\n",
        "Overall, this script demonstrates the use of differential privacy techniques to compute differentially private aggregations of sensitive data, while also visualizing the distribution of the data for further analysis."
      ],
      "metadata": {
        "id": "7HTceXnnHTZ3"
      }
    },
    {
      "cell_type": "code",
      "source": [
        "!pip3 install python-dp"
      ],
      "metadata": {
        "colab": {
          "base_uri": "https://localhost:8080/"
        },
        "id": "77LrBGDhrRXA",
        "outputId": "36fb299c-4ae8-4734-ed3f-3200bfb89ea0"
      },
      "execution_count": 1,
      "outputs": [
        {
          "output_type": "stream",
          "name": "stdout",
          "text": [
            "Looking in indexes: https://pypi.org/simple, https://us-python.pkg.dev/colab-wheels/public/simple/\n",
            "Collecting python-dp\n",
            "  Downloading python_dp-1.1.1-cp38-cp38-manylinux1_x86_64.whl (3.5 MB)\n",
            "\u001b[2K     \u001b[90m━━━━━━━━━━━━━━━━━━━━━━━━━━━━━━━━━━━━━━━━\u001b[0m \u001b[32m3.5/3.5 MB\u001b[0m \u001b[31m28.7 MB/s\u001b[0m eta \u001b[36m0:00:00\u001b[0m\n",
            "\u001b[?25hInstalling collected packages: python-dp\n",
            "Successfully installed python-dp-1.1.1\n"
          ]
        }
      ]
    },
    {
      "cell_type": "code",
      "source": [
        "import numpy as np\n",
        "import pydp as dp\n",
        "import matplotlib.pyplot as plt\n",
        "\n",
        "\n",
        "data = np.random.randint(1, 11, 1000)\n",
        "\n",
        "# privacy budget\n",
        "epsilon = 1.0\n",
        "\n",
        "\n",
        "lower_bound = 1\n",
        "upper_bound = 10\n",
        "\n",
        "\n",
        "agg = dp.algorithms.laplacian.BoundedMean(lower_bound, upper_bound, linf_sensitivity=1)\n",
        "\n",
        "\n",
        "mean_result = agg.quick_result(data)\n",
        "\n",
        "\n",
        "print(\"Differentially private mean:\", mean_result)\n",
        "\n",
        "\n",
        "plt.hist(data, bins=range(lower_bound, upper_bound+1), align='left', rwidth=0.8)\n",
        "plt.title('Dataset Distribution')\n",
        "plt.xlabel('Values')\n",
        "plt.ylabel('Counts')\n",
        "plt.show()\n"
      ],
      "metadata": {
        "colab": {
          "base_uri": "https://localhost:8080/",
          "height": 312
        },
        "id": "ek7Md5vWGDS0",
        "outputId": "35859ba5-1d96-4ad2-bf9a-a79d63574940"
      },
      "execution_count": 12,
      "outputs": [
        {
          "output_type": "stream",
          "name": "stdout",
          "text": [
            "Differentially private mean: 5.6515108844791975\n"
          ]
        },
        {
          "output_type": "display_data",
          "data": {
            "text/plain": [
              "<Figure size 432x288 with 1 Axes>"
            ],
            "image/png": "[encoded data removed]"
          },
          "metadata": {
            "needs_background": "light"
          }
        }
      ]
    }
  ]
}